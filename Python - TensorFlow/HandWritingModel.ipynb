{
 "cells": [
  {
   "cell_type": "markdown",
   "metadata": {},
   "source": [
    "### reset the graph"
   ]
  },
  {
   "cell_type": "code",
   "execution_count": 1,
   "metadata": {},
   "outputs": [],
   "source": [
    "import tensorflow as tf\n",
    "from tensorflow.examples.tutorials.mnist import input_data\n",
    "from tensorflow.python.framework import graph_util\n",
    "import tfcoreml  as tfconverter\n",
    "\n",
    "tf.reset_default_graph()"
   ]
  },
  {
   "cell_type": "markdown",
   "metadata": {},
   "source": [
    "### prepare training data"
   ]
  },
  {
   "cell_type": "code",
   "execution_count": 2,
   "metadata": {
    "scrolled": true
   },
   "outputs": [
    {
     "name": "stdout",
     "output_type": "stream",
     "text": [
      "Extracting mnist_data/train-images-idx3-ubyte.gz\n",
      "Extracting mnist_data/train-labels-idx1-ubyte.gz\n",
      "Extracting mnist_data/t10k-images-idx3-ubyte.gz\n",
      "Extracting mnist_data/t10k-labels-idx1-ubyte.gz\n"
     ]
    }
   ],
   "source": [
    "tf.logging.set_verbosity(tf.logging.ERROR)\n",
    "\n",
    "# download to mnist_data/ folder\n",
    "mnist_data = input_data.read_data_sets('mnist_data', one_hot=True, reshape=False, validation_size=0)\n",
    "\n",
    "tf.logging.set_verbosity(tf.logging.DEBUG)"
   ]
  },
  {
   "cell_type": "markdown",
   "metadata": {},
   "source": [
    "### create computal graph"
   ]
  },
  {
   "cell_type": "code",
   "execution_count": 3,
   "metadata": {},
   "outputs": [],
   "source": [
    "# y = softmax(Weights * x) + biases\n",
    "x = tf.placeholder(tf.float32, [None, 28, 28, 1], name='input_image')\n",
    "y = tf.placeholder(tf.float32, [None, 10], name='y')\n",
    "# 10個神經元, 28 x 28 = 784 px image\n",
    "weights = tf.Variable(tf.zeros([784, 10]), name='weights')\n",
    "biases = tf.Variable(tf.zeros([10]), name='biases')\n",
    "\n",
    "flattenX = tf.reshape(x, [-1, 784], name='flattenX')\n",
    "# Weights * x = [784, 10] x [100, 784] ==> crash\n",
    "# x * Weights = [10, 784] x [784, 100] ==> [100, 10]\n",
    "WX = tf.matmul(flattenX, weights, name='WX')\n",
    "# 演算出來的答案 [100, 10] ==> 一百張圖，個別 label 的信心程度\n",
    "finalY = tf.nn.softmax(WX + biases, name='prediction')"
   ]
  },
  {
   "cell_type": "markdown",
   "metadata": {},
   "source": [
    "### loss function"
   ]
  },
  {
   "cell_type": "code",
   "execution_count": 4,
   "metadata": {},
   "outputs": [],
   "source": [
    "# Cross-entropy(適合分類): loss = - sum(y * log(finalY))\n",
    "\n",
    "# A = [[1, 2], [3, 4]] ==> Shape: [2, 2]\n",
    "# B = [[5, 6], [7, 8]] ==> Shape: [2, 2]\n",
    "# A * B = [[1 * 5,  2 * 6], [3 * 7, 4 * 8]] ==> Shape: [2, 2]\n",
    "\n",
    "# y ==> Shape: [None, 10]\n",
    "# finalY ==> Shape: [None, 10]\n",
    "# tf.log(finalY) ==> Shape: [None, 10]\n",
    "# y * tf.log(finalY) ==> Shape: [None, 10]\n",
    "\n",
    "# tf.reduce_mean(..., axis = 0) ==> [10]\n",
    "# 10 ==> 10種結果, 100 ==> 一次100張圖片\n",
    "loss = - tf.reduce_mean(y * tf.log(finalY)) * 10 * 100\n",
    "# loss = - tf.reduce_sum(y * tf.log(finalY)) * 10\n",
    "optimizer = tf.train.GradientDescentOptimizer(0.01)\n",
    "train = optimizer.minimize(loss)"
   ]
  },
  {
   "cell_type": "markdown",
   "metadata": {},
   "source": [
    "### extra job for accuracy"
   ]
  },
  {
   "cell_type": "code",
   "execution_count": 5,
   "metadata": {},
   "outputs": [
    {
     "name": "stdout",
     "output_type": "stream",
     "text": [
      "WARNING:tensorflow:From <ipython-input-5-ff11ba369bcf>:1: arg_max (from tensorflow.python.ops.gen_math_ops) is deprecated and will be removed in a future version.\n",
      "Instructions for updating:\n",
      "Use `argmax` instead\n"
     ]
    }
   ],
   "source": [
    "correct_predition = tf.equal(tf.arg_max(finalY, 1), tf.arg_max(y, 1)) # True or False [100]\n",
    "# tf.cast(轉型)\n",
    "accuracy = tf.reduce_mean(tf.cast(correct_predition, tf.float32))"
   ]
  },
  {
   "cell_type": "markdown",
   "metadata": {},
   "source": [
    "### run the session"
   ]
  },
  {
   "cell_type": "code",
   "execution_count": 6,
   "metadata": {},
   "outputs": [
    {
     "name": "stdout",
     "output_type": "stream",
     "text": [
      "No exist check point.\n",
      "INFO:tensorflow:Froze 2 variables.\n",
      "INFO:tensorflow:Converted 2 variables to const ops.\n"
     ]
    }
   ],
   "source": [
    "accuracy_result = []\n",
    "loss_result = []\n",
    "\n",
    "with tf.Session() as session:\n",
    "    session.run(tf.global_variables_initializer())\n",
    "    \n",
    "    # prepare saver\n",
    "    saver = tf.train.Saver()\n",
    "    \n",
    "    # try to restore *.ckpt\n",
    "    exist = tf.train.get_checkpoint_state('./save/')\n",
    "    if exist:\n",
    "        saver.restore(session, './save/hand_write.ckpt')\n",
    "        print('Restore success.')\n",
    "    else:\n",
    "        print('No exist check point.')\n",
    "    \n",
    "    for step in range(2000):\n",
    "        # get the training data from file\n",
    "        batchX, batchY = mnist_data.train.next_batch(100)\n",
    "        session.run(train, feed_dict = {\n",
    "            x: batchX,\n",
    "            y: batchY\n",
    "        })\n",
    "        # show the training progress\n",
    "        accuracy_batch, loss_batch = session.run([accuracy, loss], feed_dict = {\n",
    "            x: batchX,\n",
    "            y: batchY\n",
    "        })\n",
    "        # print(step, 'train: ', accuracy_batch, loss_batch)\n",
    "        \n",
    "        testX = mnist_data.test.images\n",
    "        testY = mnist_data.test.labels\n",
    "        accuracy_test, loss_test = session.run([accuracy, loss], feed_dict = {\n",
    "            x: testX,\n",
    "            y: testY\n",
    "        })\n",
    "        # print(step, 'train: ', accuracy_test, loss_test)\n",
    "        \n",
    "        accuracy_result.append({'accuracy_batch': accuracy_batch, 'accuracy_test': accuracy_test})\n",
    "        loss_result.append({'loss_batch': loss_batch, 'loss_test': loss_test})\n",
    "        \n",
    "    # save graph/variables\n",
    "    # 會用到 session, 要在 session 消失之前執行\n",
    "    # .ckpt ==> check point 檢查點\n",
    "    saver.save(session, './save/hand_write.ckpt')\n",
    "    \n",
    "    # freeze and save as a pb file\n",
    "    # 變數轉常數: session + 運算圖 + finalY的名字(prediction)\n",
    "    frozen_graph = graph_util.convert_variables_to_constants(session, session.graph_def, [finalY.op.name])\n",
    "    \n",
    "    # check and let None became 1\n",
    "    for node in frozen_graph.node:\n",
    "        # 排除強制使用 GPU\n",
    "        if node.device:\n",
    "            node.device = ''\n",
    "        # shape 預設為 None(未知)\n",
    "        if 'shape' in node.attr:\n",
    "            node.attr['shape'].shape.dim[0].size = 1\n",
    "            \n",
    "    # save the pb file\n",
    "    # as_text(important) ==> True: 轉換成文字, False: 轉換成binary格式\n",
    "    tf.train.write_graph(frozen_graph, '', './frozen/frozen_graph.pb', as_text=False)"
   ]
  },
  {
   "cell_type": "markdown",
   "metadata": {},
   "source": [
    "### convert pb to coreml file formate"
   ]
  },
  {
   "cell_type": "code",
   "execution_count": 7,
   "metadata": {},
   "outputs": [
    {
     "name": "stdout",
     "output_type": "stream",
     "text": [
      "\n",
      "Loading the TF graph...\n",
      "Graph Loaded.\n",
      "Collecting all the 'Const' ops from the graph, by running it....\n",
      "Done.\n",
      "Now finding ops in the TF graph that can be dropped for inference\n",
      "Now starting translation to CoreML graph.\n",
      "Automatic shape interpretation succeeded for input blob input_image:0\n",
      "1/10: Analysing op name: flattenX/shape ( type:  Const )\n",
      "2/10: Analysing op name: biases ( type:  Const )\n",
      "3/10: Analysing op name: biases/read ( type:  Identity )\n",
      "4/10: Analysing op name: weights ( type:  Const )\n",
      "5/10: Analysing op name: weights/read ( type:  Identity )\n",
      "6/10: Analysing op name: input_image ( type:  Placeholder )\n",
      "Skipping name of placeholder\n",
      "7/10: Analysing op name: flattenX ( type:  Reshape )\n",
      "8/10: Analysing op name: WX ( type:  MatMul )\n",
      "9/10: Analysing op name: add ( type:  Add )\n",
      "10/10: Analysing op name: prediction ( type:  Softmax )\n",
      "Translation to CoreML spec completed. Now compiling and saving the CoreML model.\n",
      "\n",
      " Core ML model generated. Saved at location: ./model_output/MyHandWriteV1.mlmodel \n",
      "\n",
      "Core ML input(s): \n",
      " [name: \"input_image__0\"\n",
      "type {\n",
      "  imageType {\n",
      "    width: 28\n",
      "    height: 28\n",
      "    colorSpace: GRAYSCALE\n",
      "  }\n",
      "}\n",
      "]\n",
      "Core ML output(s): \n",
      " [name: \"prediction__0\"\n",
      "type {\n",
      "  dictionaryType {\n",
      "    stringKeyType {\n",
      "    }\n",
      "  }\n",
      "}\n",
      ", name: \"classLabel\"\n",
      "type {\n",
      "  stringType {\n",
      "  }\n",
      "}\n",
      "]\n"
     ]
    },
    {
     "data": {
      "text/plain": [
       "input {\n",
       "  name: \"input_image__0\"\n",
       "  type {\n",
       "    imageType {\n",
       "      width: 28\n",
       "      height: 28\n",
       "      colorSpace: GRAYSCALE\n",
       "    }\n",
       "  }\n",
       "}\n",
       "output {\n",
       "  name: \"prediction__0\"\n",
       "  type {\n",
       "    dictionaryType {\n",
       "      stringKeyType {\n",
       "      }\n",
       "    }\n",
       "  }\n",
       "}\n",
       "output {\n",
       "  name: \"classLabel\"\n",
       "  type {\n",
       "    stringType {\n",
       "    }\n",
       "  }\n",
       "}\n",
       "predictedFeatureName: \"classLabel\"\n",
       "predictedProbabilitiesName: \"prediction__0\""
      ]
     },
     "execution_count": 7,
     "metadata": {},
     "output_type": "execute_result"
    }
   ],
   "source": [
    "tfconverter.convert(tf_model_path='./frozen/frozen_graph.pb',\n",
    "                            mlmodel_path='./model_output/MyHandWriteV1.mlmodel',\n",
    "                            output_feature_names=['prediction:0'],\n",
    "                            image_input_names=['input_image__0'],\n",
    "                            class_labels='MyHandWriteV1.txt')"
   ]
  },
  {
   "cell_type": "code",
   "execution_count": 8,
   "metadata": {},
   "outputs": [
    {
     "data": {
      "text/plain": [
       "<matplotlib.axes._subplots.AxesSubplot at 0x1344a4f28>"
      ]
     },
     "execution_count": 8,
     "metadata": {},
     "output_type": "execute_result"
    },
    {
     "data": {
      "image/png": "[encoded data removed]",
      "text/plain": [
       "<Figure size 432x288 with 2 Axes>"
      ]
     },
     "metadata": {
      "needs_background": "light"
     },
     "output_type": "display_data"
    }
   ],
   "source": [
    "import matplotlib.pyplot as plt\n",
    "import pandas\n",
    "\n",
    "%matplotlib inline\n",
    "\n",
    "pd = pandas.DataFrame(accuracy_result)\n",
    "pd2 = pandas.DataFrame(loss_result)\n",
    "\n",
    "pd = pd[(pd > 0.85) & (pd < 0.95)]\n",
    "pd2 = pd2[pd2 < 40]\n",
    "\n",
    "fig, axes = plt.subplots(nrows=2, ncols=1)\n",
    "pd.plot(ax=axes[0])\n",
    "pd2.plot(ax=axes[1])"
   ]
  },
  {
   "cell_type": "code",
   "execution_count": null,
   "metadata": {},
   "outputs": [],
   "source": []
  }
 ],
 "metadata": {
  "kernelspec": {
   "display_name": "Python 3",
   "language": "python",
   "name": "python3"
  },
  "language_info": {
   "codemirror_mode": {
    "name": "ipython",
    "version": 3
   },
   "file_extension": ".py",
   "mimetype": "text/x-python",
   "name": "python",
   "nbconvert_exporter": "python",
   "pygments_lexer": "ipython3",
   "version": "3.6.5"
  }
 },
 "nbformat": 4,
 "nbformat_minor": 2
}
