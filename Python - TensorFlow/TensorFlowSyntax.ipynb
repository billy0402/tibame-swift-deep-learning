{
 "cells": [
  {
   "cell_type": "markdown",
   "metadata": {},
   "source": [
    "### jupyter notebook magic"
   ]
  },
  {
   "cell_type": "code",
   "execution_count": 1,
   "metadata": {
    "scrolled": true
   },
   "outputs": [],
   "source": [
    "! jupyter notebook"
   ]
  },
  {
   "cell_type": "code",
   "execution_count": 2,
   "metadata": {},
   "outputs": [],
   "source": [
    "%matplotlib inline"
   ]
  },
  {
   "cell_type": "markdown",
   "metadata": {},
   "source": [
    "### CPU warning"
   ]
  },
  {
   "cell_type": "code",
   "execution_count": 3,
   "metadata": {},
   "outputs": [],
   "source": [
    "import os\n",
    "# 1 all(default), 2 warning & error, 3 error\n",
    "os.environ['TF_CPP_MIN_LOG_LEVEL'] = '3'"
   ]
  },
  {
   "cell_type": "markdown",
   "metadata": {},
   "source": [
    "### Hello World"
   ]
  },
  {
   "cell_type": "code",
   "execution_count": 4,
   "metadata": {},
   "outputs": [
    {
     "name": "stdout",
     "output_type": "stream",
     "text": [
      "b'Hello, Tensorflow.'\n",
      "b'Hello, Tensorflow.'\n"
     ]
    }
   ],
   "source": [
    "import tensorflow as tf\n",
    "\n",
    "# 建立運算圖\n",
    "hello = tf.constant('Hello, Tensorflow.')\n",
    "\n",
    "# 進行運算\n",
    "\n",
    "# manual close\n",
    "session = tf.Session()\n",
    "print(session.run(hello))\n",
    "session.close()\n",
    "\n",
    "# auto close\n",
    "with tf.Session() as session:\n",
    "    print(session.run(hello))"
   ]
  },
  {
   "cell_type": "markdown",
   "metadata": {},
   "source": [
    "### add"
   ]
  },
  {
   "cell_type": "markdown",
   "metadata": {},
   "source": [
    "#### 3 + 7 = 10"
   ]
  },
  {
   "cell_type": "code",
   "execution_count": 5,
   "metadata": {},
   "outputs": [
    {
     "name": "stdout",
     "output_type": "stream",
     "text": [
      "number1a:  Tensor(\"number1a:0\", shape=(), dtype=int32)\n",
      "number1b:  Tensor(\"number1b:0\", shape=(), dtype=int32)\n",
      "result1:  Tensor(\"result1:0\", shape=(), dtype=int32)\n",
      "value:  10\n"
     ]
    }
   ],
   "source": [
    "import tensorflow as tf\n",
    "\n",
    "# Reset the Graph\n",
    "tf.reset_default_graph()\n",
    "\n",
    "number1a = tf.constant(3, name='number1a')\n",
    "number1b = tf.constant(7, name='number1b')\n",
    "result1 = tf.add(number1a, number1b, name='result1')\n",
    "\n",
    "print('number1a: ', number1a)\n",
    "print('number1b: ', number1b)\n",
    "print('result1: ', result1)\n",
    "\n",
    "with tf.Session() as session:\n",
    "    # 全域變數初始化(important)\n",
    "    session.run(tf.global_variables_initializer())\n",
    "    print('value: ', session.run(result1))"
   ]
  },
  {
   "cell_type": "markdown",
   "metadata": {},
   "source": [
    "#### 3 += 7"
   ]
  },
  {
   "cell_type": "code",
   "execution_count": 6,
   "metadata": {},
   "outputs": [
    {
     "name": "stdout",
     "output_type": "stream",
     "text": [
      "result2:  10\n",
      "number2a:  3\n",
      "assign2:  10\n",
      "number2a:  10\n"
     ]
    }
   ],
   "source": [
    "import tensorflow as tf\n",
    "\n",
    "tf.reset_default_graph()\n",
    "\n",
    "number2a = tf.Variable(3)\n",
    "number2b = tf.constant(7)\n",
    "result2 = tf.add(number2a, number2b)\n",
    "assign2 = tf.assign(number2a, result2)\n",
    "\n",
    "with tf.Session() as session:\n",
    "    session.run(tf.global_variables_initializer())\n",
    "    print('result2: ', session.run(result2))\n",
    "    print('number2a: ', session.run(number2a))\n",
    "    print('assign2: ', session.run(assign2))\n",
    "    print('number2a: ', session.run(number2a))"
   ]
  },
  {
   "cell_type": "markdown",
   "metadata": {},
   "source": [
    "#### 0 += 1 (Loop)"
   ]
  },
  {
   "cell_type": "code",
   "execution_count": 7,
   "metadata": {},
   "outputs": [
    {
     "name": "stdout",
     "output_type": "stream",
     "text": [
      "run: 1 times:  1\n",
      "run: 2 times:  2\n",
      "run: 3 times:  3\n",
      "run: 4 times:  4\n",
      "run: 5 times:  5\n",
      "run: 6 times:  6\n",
      "run: 7 times:  7\n",
      "run: 8 times:  8\n",
      "Finally, number3a:  8\n"
     ]
    }
   ],
   "source": [
    "import tensorflow as tf\n",
    "\n",
    "tf.reset_default_graph()\n",
    "\n",
    "number3a = tf.Variable(0)\n",
    "number3b = tf.constant(1)\n",
    "result3 = tf.add(number3a, number3b)\n",
    "assign3 = tf.assign(number3a, result3)\n",
    "\n",
    "with tf.Session() as session:\n",
    "    session.run(tf.global_variables_initializer())\n",
    "    for i in range(8):\n",
    "        value = session.run(assign3)\n",
    "        print('run:', i + 1, 'times: ', value)\n",
    "    print('Finally, number3a: ', session.run(number3a))"
   ]
  },
  {
   "cell_type": "markdown",
   "metadata": {},
   "source": [
    "### about shape"
   ]
  },
  {
   "cell_type": "code",
   "execution_count": 8,
   "metadata": {},
   "outputs": [
    {
     "name": "stdout",
     "output_type": "stream",
     "text": [
      "number4a shape:  () Tensor(\"Const:0\", shape=(), dtype=float32)\n",
      "number4b shape:  () Tensor(\"ones:0\", shape=(), dtype=float32)\n",
      "number4c shape:  (1,) Tensor(\"ones_1:0\", shape=(1,), dtype=float32)\n",
      "number4d shape:  (3,) Tensor(\"ones_2:0\", shape=(3,), dtype=float32)\n",
      "number4e shape:  (1, 2) Tensor(\"ones_3:0\", shape=(1, 2), dtype=float32)\n",
      "number4f shape:  (2, 3) Tensor(\"ones_4:0\", shape=(2, 3), dtype=float32)\n",
      "number4a:  1.0\n",
      "number4b:  1.0\n",
      "number4c:  [1.]\n",
      "number4d:  [1. 1. 1.]\n",
      "number4e:  [[1. 1.]]\n",
      "number4f:\n",
      " [[1. 1. 1.]\n",
      " [1. 1. 1.]]\n"
     ]
    }
   ],
   "source": [
    "import tensorflow as tf\n",
    "\n",
    "tf.reset_default_graph()\n",
    "\n",
    "# () => shape\n",
    "# number4a = tf.constant(1) # int32\n",
    "# number4a = tf.constant(1.0) # float32\n",
    "number4a = tf.constant(1, dtype=tf.float32) # 0-D\n",
    "print('number4a shape: ', number4a.shape, number4a)\n",
    "number4b = tf.ones([]) # 0-D ==> 1.0\n",
    "print('number4b shape: ', number4b.shape, number4b)\n",
    "number4c = tf.ones([1]) # 1-D ==> [1.0] vector\n",
    "print('number4c shape: ', number4c.shape, number4c)\n",
    "number4d = tf.ones([3]) # 1-D ==> [1.0, 1.0, 1.0] vector\n",
    "print('number4d shape: ', number4d.shape, number4d)\n",
    "number4e = tf.ones([1, 2]) # 2-D ==> [[1.0, 1.0]]\n",
    "print('number4e shape: ', number4e.shape, number4e)\n",
    "number4f = tf.ones([2, 3]) # 2-D ==> [[1.0, 1.0, 1.0], [1.0, 1.0, 1.0]]\n",
    "print('number4f shape: ', number4f.shape, number4f)\n",
    "\"\"\"\n",
    "[\n",
    "    [1.0, 1.0, 1.0],\n",
    "    [1.0, 1.0, 1.0]\n",
    "]\n",
    "\"\"\"\n",
    "\n",
    "# [] => value\n",
    "with tf.Session() as session:\n",
    "    session.run(tf.global_variables_initializer())\n",
    "    print('number4a: ', session.run(number4a))\n",
    "    print('number4b: ', session.run(number4b))\n",
    "    print('number4c: ', session.run(number4c))\n",
    "    print('number4d: ', session.run(number4d))\n",
    "    print('number4e: ', session.run(number4e))\n",
    "    print('number4f:\\n', session.run(number4f))"
   ]
  },
  {
   "cell_type": "markdown",
   "metadata": {},
   "source": [
    "### 1-D operations"
   ]
  },
  {
   "cell_type": "code",
   "execution_count": 9,
   "metadata": {},
   "outputs": [
    {
     "name": "stdout",
     "output_type": "stream",
     "text": [
      "number5a shape:  (6,)\n",
      "result5b:  [ 2  6 10 14 18 22]\n",
      "result5c:  [ 4  6  8 10 12 14]\n",
      "result5d:  [ 4  6  8 10 12 14]\n",
      "result5e:  [-2  0  2  4  6  8]\n",
      "result5f:  [ 3  9 15 21 27 33]\n",
      "result5g:  [0 1 1 2 3 3]\n",
      "result5h:  [0.33333333 1.         1.66666667 2.33333333 3.         3.66666667]\n"
     ]
    }
   ],
   "source": [
    "import tensorflow as tf\n",
    "\n",
    "tf.reset_default_graph()\n",
    "\n",
    "number5a = tf.constant([1, 3, 5, 7, 9, 11])\n",
    "number5b = tf.constant([1, 3, 5, 7, 9, 11])\n",
    "print('number5a shape: ', number5a.shape) # [6]\n",
    "\n",
    "# Broadcast(for 0-D & 1-D)\n",
    "number5c = tf.constant(3) # 0-D [] ==> [3, 3, 3, 3, 3, 3]\n",
    "number5d = tf.constant([3]) # 1-D [] ==> [3, 3, 3, 3, 3, 3]\n",
    "\n",
    "# ValueError: Dimensions must be equal, but are 6 and 5 for 'Add_3' (op: 'Add') with input shapes: [6], [5].\n",
    "result5b = tf.add(number5a, number5b)\n",
    "result5c = tf.add(number5a, number5c)\n",
    "result5d = tf.add(number5a, number5d)\n",
    "\n",
    "result5e = tf.subtract(number5a, number5d)\n",
    "result5f = tf.multiply(number5a, number5d)\n",
    "result5g = tf.div(number5a, number5d) # int32\n",
    "result5h = tf.divide(number5a, number5d) # float32\n",
    "\n",
    "with tf.Session() as session:\n",
    "    session.run(tf.global_variables_initializer())\n",
    "    print('result5b: ', session.run(result5b))\n",
    "    print('result5c: ', session.run(result5c))\n",
    "    print('result5d: ', session.run(result5d))\n",
    "    print('result5e: ', session.run(result5e))\n",
    "    print('result5f: ', session.run(result5f))\n",
    "    print('result5g: ', session.run(result5g))\n",
    "    print('result5h: ', session.run(result5h))"
   ]
  },
  {
   "cell_type": "markdown",
   "metadata": {},
   "source": [
    "### Matrix"
   ]
  },
  {
   "cell_type": "code",
   "execution_count": 10,
   "metadata": {},
   "outputs": [
    {
     "name": "stdout",
     "output_type": "stream",
     "text": [
      "matrix6a shape:  (3, 2)\n",
      "matrix6b shape:  (2, 3)\n",
      "result6:\n",
      " [[11 26 41]\n",
      " [13 28 43]\n",
      " [13 40 67]]\n"
     ]
    }
   ],
   "source": [
    "import tensorflow as tf\n",
    "\n",
    "tf.reset_default_graph()\n",
    "\n",
    "matrix6a = tf.constant([[2, 3], [1, 4], [7, 2]])\n",
    "matrix6b = tf.constant([[1, 4, 7], [3, 6, 9]])\n",
    "\n",
    "print('matrix6a shape: ', matrix6a.shape) # [3, 2]\n",
    "print('matrix6b shape: ', matrix6b.shape) # [2, 3]\n",
    "\n",
    "# shape: [A, B] x [B, C] ==> [A, C], B要相等\n",
    "result6 = tf.matmul(matrix6a, matrix6b)\n",
    "\n",
    "with tf.Session() as session:\n",
    "    session.run(tf.global_variables_initializer())\n",
    "    print('result6:\\n', session.run(result6)) # [3, 3]"
   ]
  },
  {
   "cell_type": "markdown",
   "metadata": {},
   "source": [
    "### Matrix reshape"
   ]
  },
  {
   "cell_type": "code",
   "execution_count": 11,
   "metadata": {},
   "outputs": [
    {
     "name": "stdout",
     "output_type": "stream",
     "text": [
      "matrix7a:  [ 1  3  7  4  9 13 17 23]\n",
      "matrix7b:\n",
      " [[ 1  3]\n",
      " [ 7  4]\n",
      " [ 9 13]\n",
      " [17 23]]\n",
      "matrix7c:\n",
      " [[ 1  3  7  4]\n",
      " [ 9 13 17 23]]\n",
      "matrix7d:\n",
      " [[ 1]\n",
      " [ 3]\n",
      " [ 7]\n",
      " [ 4]\n",
      " [ 9]\n",
      " [13]\n",
      " [17]\n",
      " [23]]\n",
      "matrix7e:  [[ 1  3  7  4  9 13 17 23]]\n",
      "matrix7f:  [ 1  3  7  4  9 13 17 23]\n"
     ]
    }
   ],
   "source": [
    "import tensorflow as tf\n",
    "\n",
    "tf.reset_default_graph()\n",
    "\n",
    "matrix7a = tf.constant([1, 3, 7, 4, 9, 13, 17, 23]) #[8]\n",
    "matrix7b = tf.reshape(matrix7a, [4, 2])\n",
    "matrix7c = tf.reshape(matrix7a, [2, 4])\n",
    "matrix7d = tf.reshape(matrix7a, [8, 1])\n",
    "matrix7e = tf.reshape(matrix7a, [1, 8])\n",
    "matrix7f = tf.reshape(matrix7c, [-1]) # 一律展開\n",
    "\n",
    "with tf.Session() as session:\n",
    "    session.run(tf.global_variables_initializer())\n",
    "    print('matrix7a: ', session.run(matrix7a))\n",
    "    print('matrix7b:\\n', session.run(matrix7b))\n",
    "    print('matrix7c:\\n', session.run(matrix7c))\n",
    "    print('matrix7d:\\n', session.run(matrix7d))\n",
    "    print('matrix7e: ', session.run(matrix7e))\n",
    "    print('matrix7f: ', session.run(matrix7f))"
   ]
  },
  {
   "cell_type": "markdown",
   "metadata": {},
   "source": [
    "### Placeholder"
   ]
  },
  {
   "cell_type": "code",
   "execution_count": 12,
   "metadata": {},
   "outputs": [
    {
     "name": "stdout",
     "output_type": "stream",
     "text": [
      "result8a:  [  2  12  49   4  81 143 221 345]\n",
      "result8b:  [  12   24   98   12  648 3003 1105 3795]\n",
      "result8c:  [  24   48  196   24 1296 6006 2210 7590]\n"
     ]
    }
   ],
   "source": [
    "import tensorflow as tf\n",
    "\n",
    "tf.reset_default_graph()\n",
    "\n",
    "matrix8a = tf.constant([1, 3, 7, 4, 9, 13, 17, 23])\n",
    "placeholder8b = tf.placeholder(tf.int32, [8])\n",
    "placeholder8c = tf.placeholder(tf.int32, [8])\n",
    "placeholder8d = tf.placeholder(tf.int32, [None])\n",
    "\n",
    "result8a = tf.multiply(matrix8a, placeholder8b)\n",
    "result8b = tf.multiply(result8a, placeholder8c)\n",
    "result8c = tf.multiply(result8b, placeholder8d)\n",
    "\n",
    "with tf.Session() as session:\n",
    "    session.run(tf.global_variables_initializer())\n",
    "    value = session.run(result8a, feed_dict = {\n",
    "        placeholder8b: [2, 4, 7, 1, 9, 11, 13, 15]\n",
    "    })\n",
    "    print('result8a: ', value)\n",
    "    value = session.run(result8b, feed_dict = {\n",
    "        placeholder8b: [2, 4, 7, 1, 9, 11, 13, 15],\n",
    "        placeholder8c: [6, 2, 2, 3, 8, 21, 5, 11]\n",
    "    })\n",
    "    print('result8b: ', value)\n",
    "    value = session.run(result8c, feed_dict = {\n",
    "        placeholder8b: [2, 4, 7, 1, 9, 11, 13, 15],\n",
    "        placeholder8c: [6, 2, 2, 3, 8, 21, 5, 11],\n",
    "        placeholder8d: [2]\n",
    "    })\n",
    "    print('result8c: ', value)"
   ]
  },
  {
   "cell_type": "code",
   "execution_count": null,
   "metadata": {},
   "outputs": [],
   "source": []
  }
 ],
 "metadata": {
  "kernelspec": {
   "display_name": "Python 3",
   "language": "python",
   "name": "python3"
  },
  "language_info": {
   "codemirror_mode": {
    "name": "ipython",
    "version": 3
   },
   "file_extension": ".py",
   "mimetype": "text/x-python",
   "name": "python",
   "nbconvert_exporter": "python",
   "pygments_lexer": "ipython3",
   "version": "3.6.5"
  }
 },
 "nbformat": 4,
 "nbformat_minor": 2
}
